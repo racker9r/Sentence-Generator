{
 "cells": [
  {
   "cell_type": "code",
   "execution_count": null,
   "id": "7e041c6e",
   "metadata": {},
   "outputs": [],
   "source": [
    "!pip install openai==0.28.1"
   ]
  },
  {
   "cell_type": "code",
   "execution_count": 3,
   "id": "d5dd7c6d",
   "metadata": {},
   "outputs": [
    {
     "name": "stdout",
     "output_type": "stream",
     "text": [
      "Running on local URL:  http://127.0.0.1:7863\n",
      "\n",
      "To create a public link, set `share=True` in `launch()`.\n"
     ]
    },
    {
     "data": {
      "text/html": [
       "<div><iframe src=\"http://127.0.0.1:7863/\" width=\"100%\" height=\"500\" allow=\"autoplay; camera; microphone; clipboard-read; clipboard-write;\" frameborder=\"0\" allowfullscreen></iframe></div>"
      ],
      "text/plain": [
       "<IPython.core.display.HTML object>"
      ]
     },
     "metadata": {},
     "output_type": "display_data"
    }
   ],
   "source": [
    "import os\n",
    "import gradio as gr\n",
    "import openai\n",
    "\n",
    "# Insert your API key Here\n",
    "api_key = \"sk-\"\n",
    "\n",
    "if api_key is None:\n",
    "    raise ValueError(\"OPENAI_API_KEY environment variable is not set\")\n",
    "\n",
    "def generate_statement(keyword, emotion, action, num, sd):\n",
    "    try:\n",
    "        # Validate the number of sentences\n",
    "        num = int(num)\n",
    "        if num <= 0:\n",
    "            return \"Number of sentences must be a positive integer.\"\n",
    "\n",
    "        # Construct a more detailed request message\n",
    "        request_message = f\"\"\"Generate {num} short and meaningful sentences that convey the following:\n",
    "        \n",
    "        Context: A statement expressing {emotion} emotion.\n",
    "        Action: {action}\n",
    "        Direction: A statement from {sd}.\n",
    "        \n",
    "        Use the keyword(s) '{keyword}' in each sentence. Ensure that the sentences are unique, coherent, and follow proper grammar.\n",
    "        Avoid using pronouns; use nouns instead.\n",
    "        \n",
    "        Example: If 'keyword' is 'love,' 'emotion' is 'happiness,' 'action' is 'sharing,' 'num' is 5, and 'sd' is 'me to you,' then a sample output could be:\n",
    "        'Happiness fills my heart as I share my love with you.'\n",
    "        \n",
    "        Provide {num} such unique sentences with the sentence number infront of it.\"\"\"\n",
    "\n",
    "        # Initialize the OpenAI API client\n",
    "        openai.api_key = api_key\n",
    "\n",
    "        # Generate text using GPT-2\n",
    "        response = openai.Completion.create(\n",
    "            engine=\"text-davinci-002\",  # GPT-2 engine\n",
    "            prompt=request_message,\n",
    "            max_tokens=1500,  # Adjust max_tokens as needed\n",
    "            n=1  # Number of responses to generate\n",
    "        )\n",
    "\n",
    "        generated_text = response.choices[0].text.strip()\n",
    "        return generated_text\n",
    "\n",
    "    except ValueError:\n",
    "        return \"Number of sentences must be a positive integer.\"\n",
    "\n",
    "\n",
    "def launch_interface():\n",
    "    iface = gr.Interface(\n",
    "        fn=generate_statement,\n",
    "        inputs=[\n",
    "            gr.components.Textbox(label=\"Keyword(s) (Separate by a comma if multiple)\"),\n",
    "            gr.components.Textbox(label=\"Emotion(s) (Separate by a comma if multiple)\"),\n",
    "            gr.components.Textbox(label=\"Action (Optional)\"),\n",
    "            gr.components.Number(label=\"Number of Sentences\"),\n",
    "            gr.components.Radio([\"me to you\", \"me to them\", \"him to them\", \"they to me\"], label=\"Statement Direction\")\n",
    "        ],\n",
    "        outputs=[gr.components.Textbox(label=\"Generated Sentences\")],\n",
    "    )\n",
    "    iface.launch()\n",
    "\n",
    "if __name__ == \"__main__\":\n",
    "    launch_interface()\n"
   ]
  },
  {
   "cell_type": "code",
   "execution_count": null,
   "id": "f74723fc",
   "metadata": {},
   "outputs": [],
   "source": []
  }
 ],
 "metadata": {
  "kernelspec": {
   "display_name": "Python 3 (ipykernel)",
   "language": "python",
   "name": "python3"
  },
  "language_info": {
   "codemirror_mode": {
    "name": "ipython",
    "version": 3
   },
   "file_extension": ".py",
   "mimetype": "text/x-python",
   "name": "python",
   "nbconvert_exporter": "python",
   "pygments_lexer": "ipython3",
   "version": "3.8.5"
  }
 },
 "nbformat": 4,
 "nbformat_minor": 5
}
